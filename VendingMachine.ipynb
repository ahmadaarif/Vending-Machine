{
 "cells": [
  {
   "cell_type": "code",
   "execution_count": 11,
   "id": "baeaa5ad",
   "metadata": {},
   "outputs": [],
   "source": [
    "item = []\n",
    "\n",
    "reciept = \"\"\"\\t\\tPRODUCT -- PRICE\"\"\"\n",
    "\n",
    "stock = [\n",
    "    {\n",
    "        \"item_id\": 0,\n",
    "        \"item_name\": \"Milky Bar\",\n",
    "        'item_price': 60,\n",
    "    },\n",
    "    {\n",
    "        \"item_id\": 1,\n",
    "        \"item_name\": \"Fanta\",\n",
    "        'item_price': 90,\n",
    "    },\n",
    "    {\n",
    "        \"item_id\": 2,\n",
    "        \"item_name\": \"Kurkure\",\n",
    "        'item_price': 25,\n",
    "    },\n",
    "    {\n",
    "        \"item_id\": 3,\n",
    "        \"item_name\": \"Thumbs Up\",\n",
    "        'item_price': 90,\n",
    "    },\n",
    "    {\n",
    "        \"item_id\": 4,\n",
    "        \"item_name\": \"Wai-Wai\",\n",
    "        'item_price': 20,\n",
    "    },\n",
    "]"
   ]
  },
  {
   "cell_type": "code",
   "execution_count": 12,
   "id": "49234e81",
   "metadata": {},
   "outputs": [],
   "source": [
    "def viewItems():\n",
    "    print(\"----------The Items In Stock Are----------\\n\\n\")\n",
    "    for i in stock:\n",
    "        print(f\"Item: {i['item_name']} --- Price: {i['item_price']} --- Item ID: {i['item_id']}\")"
   ]
  },
  {
   "cell_type": "code",
   "execution_count": 13,
   "id": "c6344fcd",
   "metadata": {},
   "outputs": [],
   "source": [
    "def machine(stock, item):\n",
    "    check = True\n",
    "    \n",
    "    while check:\n",
    "        buy_item = int(input(\"\\nEnter the product ID of the product you want to buy: \"))\n",
    "\n",
    "        if buy_item < len(stock):\n",
    "            item.append(stock[buy_item])\n",
    "        else:\n",
    "            print(\"\\nError! Enter product ID again: \")\n",
    "\n",
    "        cart = str(input(\"\\nPress 1 to add item to cart\\nPress 0 to checkout\\nOption: \"))\n",
    "\n",
    "        if cart == \"0\":\n",
    "            check = False\n",
    "            \n",
    "    check = True\n",
    "    \n",
    "    while check: \n",
    "        option = int(input((\"\\nPress 1 to get the reciept\\nPress 2 to just get the sum\\nOption: \")))\n",
    "\n",
    "        if option == 1:\n",
    "            print(createReciept(item, reciept))\n",
    "            check = False\n",
    "        elif option == 2:\n",
    "            print(sum(item))\n",
    "            check = False\n",
    "        else:\n",
    "            print(\"Error! Choose option again\\nPress 1 to get the reciept\\nPress 2 to just get the sum\\nOption: \")"
   ]
  },
  {
   "cell_type": "code",
   "execution_count": 14,
   "id": "350ccf7a",
   "metadata": {},
   "outputs": [],
   "source": [
    "def sum(item):\n",
    "    sum = 0\n",
    "    for i in item:\n",
    "        sum += i[\"item_price\"]\n",
    "\n",
    "    return sum"
   ]
  },
  {
   "cell_type": "code",
   "execution_count": 15,
   "id": "1f3fbb35",
   "metadata": {},
   "outputs": [],
   "source": [
    "def createReciept(item, reciept):\n",
    "    for i in item:\n",
    "        reciept += f\"\"\"\\t{i[\"item_name\"]} -- {i['item_price']}\"\"\"\n",
    "        \n",
    "    reciept += f\"\"\"\\tTotal --- {sum(item)}\"\"\"\n",
    "    \n",
    "    return reciept"
   ]
  },
  {
   "cell_type": "code",
   "execution_count": 16,
   "id": "f4df88e3",
   "metadata": {},
   "outputs": [],
   "source": [
    "def addProduct(id, name, price):\n",
    "    temp_item = dict(item_id = id, item_name = name, item_price = price)\n",
    "    stock.append(temp_item)\n",
    "    \n",
    "    return"
   ]
  },
  {
   "cell_type": "code",
   "execution_count": 18,
   "id": "a1b3ef2c",
   "metadata": {},
   "outputs": [
    {
     "name": "stdout",
     "output_type": "stream",
     "text": [
      "----------The Items In Stock Are----------\n",
      "\n",
      "\n",
      "Item: Milky Bar --- Price: 60 --- Item ID: 0\n",
      "Item: Fanta --- Price: 90 --- Item ID: 1\n",
      "Item: Kurkure --- Price: 25 --- Item ID: 2\n",
      "Item: Thumbs Up --- Price: 90 --- Item ID: 3\n",
      "Item: Wai-Wai --- Price: 20 --- Item ID: 4\n",
      "\n",
      "\n",
      "Press 0 to quit\n",
      "Press 1 to add product to the vending machine\n",
      "Press any key to use the vending machine\n",
      "Option: \n",
      "\n",
      "Enter the product ID of the product you want to buy: 2\n",
      "\n",
      "Press 1 to add item to cart\n",
      "Press 0 to checkout\n",
      "Option: 1\n",
      "\n",
      "Enter the product ID of the product you want to buy: 4\n",
      "\n",
      "Press 1 to add item to cart\n",
      "Press 0 to checkout\n",
      "Option: 0\n",
      "\n",
      "Press 1 to get the reciept\n",
      "Press 2 to just get the sum\n",
      "Option: 1\n",
      "\t\tPRODUCT -- PRICE\tKurkure -- 25\tKurkure -- 25\tWai-Wai -- 20\tTotal --- 70\n"
     ]
    }
   ],
   "source": [
    "if __name__ == \"__main__\":\n",
    "    check = True\n",
    "    while check:\n",
    "        viewItems()\n",
    "        choose = input(\"\\n\\nPress 0 to quit\\nPress 1 to add product to the vending machine\\nPress any key to use the vending machine\\nOption: \")\n",
    "        if choose == \"0\":\n",
    "            check = False\n",
    "            quit()\n",
    "        elif choose == \"1\":\n",
    "            item_id = int(input(\"Enter product ID: \"))\n",
    "            item_name = input(\"Enter product name: \")\n",
    "            item_price = int(input(\"Enter product price: \"))\n",
    "\n",
    "            addProduct(item_id, item_name, item_price)\n",
    "            continue\n",
    "        else:\n",
    "            machine(stock, item)\n",
    "            check = False\n",
    "            "
   ]
  },
  {
   "cell_type": "code",
   "execution_count": null,
   "id": "908d885a",
   "metadata": {},
   "outputs": [],
   "source": []
  },
  {
   "cell_type": "code",
   "execution_count": null,
   "id": "a38e06b9",
   "metadata": {},
   "outputs": [],
   "source": []
  },
  {
   "cell_type": "code",
   "execution_count": null,
   "id": "25ee6eb0",
   "metadata": {},
   "outputs": [],
   "source": []
  },
  {
   "cell_type": "code",
   "execution_count": null,
   "id": "2179f852",
   "metadata": {},
   "outputs": [],
   "source": []
  }
 ],
 "metadata": {
  "kernelspec": {
   "display_name": "Python 3 (ipykernel)",
   "language": "python",
   "name": "python3"
  },
  "language_info": {
   "codemirror_mode": {
    "name": "ipython",
    "version": 3
   },
   "file_extension": ".py",
   "mimetype": "text/x-python",
   "name": "python",
   "nbconvert_exporter": "python",
   "pygments_lexer": "ipython3",
   "version": "3.10.2"
  }
 },
 "nbformat": 4,
 "nbformat_minor": 5
}
